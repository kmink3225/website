{
 "cells": [
  {
   "cell_type": "code",
   "execution_count": 4,
   "metadata": {},
   "outputs": [],
   "source": [
    "import pandas as pd\n",
    "import numpy as np\n",
    "import polars as pl\n",
    "\n",
    "import plotly.express as px\n",
    "\n",
    "import pydsptools.config.pda as pda\n",
    "import pydsptools.biorad as biorad\n",
    "\n",
    "import pydsp.run.worker\n",
    "import pydsptools.biorad.parse as bioradparse\n",
    "import pydsptools.plot as dspplt\n",
    "import pprint\n",
    "import pyarrow as pa\n",
    "import os\n",
    "import subprocess\n",
    "import matplotlib.pyplot as plt\n",
    "from pathlib import Path\n",
    "\n",
    "from pydsptools.biorad import DataParser  # BioRad PCR data parser\n",
    "from pydsptools.config import ConfigParser  # Config parser\n",
    "from pydsptools.datalake import Dataset # Data storage\n",
    "from pydsptools.analysis import CompareResults  # Analysis"
   ]
  },
  {
   "attachments": {},
   "cell_type": "markdown",
   "metadata": {},
   "source": [
    "# 담당자 \r\n",
    "\r\n",
    "* 프로젝트 발의자: 손형석 차장\r\n",
    "* 프로젝트 담당자: 김광민 대리\r\n",
    "* 문서 작성자: 김광민 대리 \r\n",
    "\r\n",
    "# Project Background\r\n",
    "\r\n",
    "[2024-02-05] 구체적인 목표 및 action items이 부재한 추상적인 상태이다. \r\n",
    "* baseline fitting 알고리즘이 CFX manager, DSP-Legacy, and AutoBaseline 등과 같이 여러 종류가 있고 그 fitting 성능이 직관적으로 보기에 개선의 필요성을 느낌.\r\n",
    "* 이 프로젝트를 통해서 각 각의 baseline 알고리즘의 장/단점을 도출하고 더 향상된 baseline fitting알고리즘을 개발하는 것을 이 프로젝트의 목적으로 한다.\r\n",
    "\r\n",
    "# Goals\r\n",
    "\r\n",
    "[2024-02-06] 다음과 같은 일시적인 목표를 정함.\r\n",
    "\r\n",
    "* insights 도출과 직관적인 분석을 위해 3개의 알고리즘의 fitting 결과를 시각화한다. \r\n",
    "* 시각화에 필요한 분석 환경을 마련한다.\r\n",
    "    * 기제품 raw data 확보, 전처리하여 dsp 연산\r\n",
    "    * 기제품 data baseline-subtracted by cfx manager 확보, 전처리하여 dsp 연산\r\n",
    "    * 전처리 auto-baseline 처리된 data 확보\r\n",
    "\r\n",
    "[2024-04-19] 더 구체화된 목표와 action items이 생성됨 (자세한 기록은 팀 주간보고 onenote 참고)\r\n",
    "\r\n",
    "1. baseline fitting 알고리즘 비교분석을 위한 plate 단위 신호 시각화: plate 당 Channel 당 Temperature당 신호 시각화를 6개 패널로 Fix\r\n",
    "    *  [After BPN] RFU: 원본 신호를 BPN (a kind of normalization) 처리된 신호를 출력\r\n",
    "    *  [DSP] Original ABSD: DSP 알고리즘의 중간 산출물인 analysis-absd-orig을 출력 (참고: absd = after baseline subtracted data)\r\n",
    "    *  [Auto] Baseline-Subtracted RFU: DSP 알고리즘의 모듈인 autobaseline (PGR manager의 Raw tab 결과를 산출하는 모듈)의 결과물 출력\r\n",
    "    *  [CFX] Baseline-Subtracted RFU: CFX manager에 의한 baseline subtracted data를 출력\r\n",
    "    *  [Strep] Baseline-Subtracted RFU: Strep Assay 제품용 baseline fitting 알고리즘의 결과물 출력 (알고리즘 개발자: 손형석 차장, 알고리즘 구현자: 양우진 부장)\r\n",
    "    *  [Strep+n] Baseline-Subtracted RFU: Strep Assay 제품용 baseline fitting 알고리즘의 n번째 개선된 결과물 출력 (알고리즘 개발자: 손형석 차장, 알고리즘 구현자: 양우진 부장)\r\n",
    "2. baseline fitting 알고리즘 심층 비교분석을 위한 단일 신호 단위 시각화: plate 당 Channel 당 Temperature당 well당 신호 시각화를 (알고리즘 개수)x(3)개의 패널로 Fix\r\n",
    "    * 알고리즘의 개수 = 6개\r\n",
    "        * [After BPN] RFU\r\n",
    "        * [DSP] Original ABSD\r\n",
    "        * [Auto] Baseline-Subtracted RFU\r\n",
    "        * [CFX] Baseline-Subtracted RFU\r\n",
    "        * [Strep] Baseline-Subtracted RFU\r\n",
    "        * [Strep+n] Baseline-Subtracted RFU\r\n",
    "3. baseline fitting 알고리즘별 신호 패턴 시각화: 다수의 plate의 걸쳐 channel 당, temperature당, well당 신호를 시각화\r\n",
    "    * DSP의 모듈 구조상 선형증가 탈락 신호와 같이 baseline fitting을 거치지 않는 신호는 출력이 불가하기 때문에 시각화에 포함시키지 않음\r\n",
    "    * 4개의 패널로 고정\r\n",
    "        * [After BPN] RFU\r\n",
    "        * [Auto] Baseline-Subtracted RFU\r\n",
    "        * [CFX] Baseline-Subtracted RFU\r\n",
    "        * [Strep+n] Baseline-Subtracted RFU\r\n",
    "    * 신호 pattern 별 시각화 종류 \r\n",
    "        * 하향 신호 pattern 시각화\r\n",
    "        * 상향 신호 pattern 시각화\r\n",
    "        * MuDT 왜곡될 가능성이 있는 신호 시각화 : High에서 양성, Low에서 음성인 well의 신호를 수집  능성이 있는 신호 시각화 : High에서 양성, Low에서 음성인 well의 신호를 수집  \n",
    "\n",
    "# Script Description\n",
    "\n",
    "## [2024-02-12]\n",
    "* 이 스크립트는 실무진들 업무 파악 및 정리가 이루어지기전에 작업한 코드도 섞여 있다.\n",
    "    * (채택되지 않은 방식): 업무 파악 전 코드 \n",
    "    * (채택된 방식): 업무 파악 후 코드\n",
    "* `1.cfx-to-parquet-converter.ipynb` 는 다음 2가지의 data를 전처리한다.\n",
    "    * CFX Data named  (RFU Baseline Subtracted by CFX Manager) 를 `bioradparse.load_pcrdata()` 함수에 의해 전처리된 결과물인 parquet 파일로 변환한다.\n",
    "    * Raw Sample Data (sampled from `pda-raw-PRJDS001`) 를 `bioradparse.load_pcrdata()` 함수에 의해 전처리된 결과물인 parquet 파일로 변환한다.\n",
    "* 최종 결과물인 `merged_data` 는 DSP 연산을 돌리기 전 data를 병합시킨 결과물이다. "
   ]
  },
  {
   "cell_type": "markdown",
   "metadata": {},
   "source": [
    "### 1. CFX Data (Baseline Subtracted) Parquet Files 생성\n",
    "\n",
    "* Seegene Export xlsx or batchanalyzer csv 데이터를 Parquet 파일로 변환하기 위한 path 설정"
   ]
  },
  {
   "cell_type": "code",
   "execution_count": 2,
   "metadata": {},
   "outputs": [],
   "source": [
    "root_path = Path.cwd() # /home/kmkim/pda/dsp-research-strep-a/kkm\n",
    "prefix = 'data'\n",
    "directory_names = ['GI-B-I']#['cfx-baseline-subtracted','pda-raw-sample']\n",
    "product_names = ['GI-B-I', 'GI-B-II', 'GI-P', 'GI-V', 'RP1', 'RP2', 'RP3', 'RP4', 'STI-CA', 'STI-EA', 'STI-GU']\n",
    "consumables = ['8-strip','96-cap']\n",
    "plate_numbers = ['plate_data_' + number for number in ['002','005','031','032','036','041']]\n",
    "# !python -m pydsptools.biorad.parse -t cfx-batch-csv -f parquet -o './data/baseline-subtracted/processed/example1' './data/baseline-subtracted/cfx-data/'"
   ]
  },
  {
   "cell_type": "markdown",
   "metadata": {},
   "source": [
    "#### 1) Parquet Files을 `plate_data_{number}` path에 분산하여 실행하는 방식\n",
    "* (채택되지 않은 방식) : data paths가 복잡해짐\n",
    "* `bioradparse.load_pcrdata()`를 이용한 batchanalyzer csv 데이터를 Parquet 파일로 변환 (아래 코드 돌릴 필요 없음- 아래의 다른 방식으로 돌릴 예정) \n",
    "* 이 방식은 실무진들이 업무 파악 및 정리가 되지 않아 임시 시도한 방식"
   ]
  },
  {
   "cell_type": "code",
   "execution_count": 65,
   "metadata": {},
   "outputs": [],
   "source": [
    "# cfx_data = []\n",
    "# raw_data = []\n",
    "# \n",
    "# for directory_name in directory_names: \n",
    "#     for product_name in ['GI-B-I']: #product_names:\n",
    "#         for consumable in ['8-strip']: #consumables:\n",
    "#             for plate_number in plate_numbers:\n",
    "#                 full_path = root_path / prefix / directory_name / product_name / consumable / plate_number\n",
    "#                 processed_path = full_path / \"processed\" / \"example1\"\n",
    "#                 processed_path.mkdir(parents=True, exist_ok=True)\n",
    "#                 exporting_path =  full_path / \"exported_pcrd\"\n",
    "#                 if 'cfx' in exporting_path: \n",
    "#                     temp_cfx_data = bioradparse.load_pcrdata(exporting_path, datatype=\"cfx-xl\")\n",
    "#                     cfx_data.append(temp_cfx_data)\n",
    "#                 temp_raw_data = bioradparse.load_pcrdata(exporting_path, datatype=\"cfx-batch-csv\")\n",
    "#                 raw_data.append(temp_raw_data)\n",
    "# #pathlib.Path(f\"./data/baseline-subtracted/processed/example1\")\n",
    "# \n",
    "# for pcrname, pcrdata in raw_data.items():\n",
    "#     bioradparse.save_pcrdata(raw_data, root_path / \"pda-raw-sample\" / \"processed\" / \"example1\" / f\"{pcrname}.parquet\")\n",
    "# for pcrname, pcrdata in cfx_data.items():\n",
    "#     bioradparse.save_pcrdata(cfx_data, root_path / \"cfx-baseline-subtraction\" / \"processed\" / \"example1\" / f\"{pcrname}.parquet\")"
   ]
  },
  {
   "cell_type": "markdown",
   "metadata": {},
   "source": [
    "#### 2) Parquet Files을 `./data/cfx-baseline-subtracted/cfx-data` 에 batch로 배치\n",
    "* (채택된 방식)\n",
    "* `batchanalyzer.exe`로 CFX Manager Baseline Subtracted Data 대량 batch 추출 후 `directory-path/cfx-data`에 저장  bioradparse module 돌림\n",
    "* 아래 코드 한번만 돌리면 됨"
   ]
  },
  {
   "cell_type": "code",
   "execution_count": 4,
   "metadata": {},
   "outputs": [],
   "source": [
    "cfx_datapath = root_path / prefix / directory_names[0] / 'cfx-data'\n",
    "cfx_data = bioradparse.load_pcrdata(str(cfx_datapath), datatype=\"cfx-batch-csv\") # output: dictionary"
   ]
  },
  {
   "cell_type": "code",
   "execution_count": 5,
   "metadata": {},
   "outputs": [],
   "source": [
    "len(cfx_data.keys()) # 201개 plates\n",
    "\n",
    "# Convert PyArrow Tables to DataFrames and store them in a new dictionary\n",
    "cfx_df_dict = {key: value.to_pandas() for key, value in cfx_data.items()}\n",
    "\n",
    "# Convert the dictionary of DataFrames to a single DataFrame (concatenating along rows)\n",
    "cfx_df = pd.concat(cfx_df_dict.values(), axis=0)\n",
    "#cfx_df = cfx_df.rename(columns={'rfu':'cfx_rfu','endrfu':'cfx_endrfu','melt_idx':'cfx_melt_idx','melt':'cfx_melt'})\n",
    "cfx_df['combo_key'] = cfx_df.apply(lambda x: f\"{x['name']} {x['channel']} {x['step']} {x['well']} {x['welltype']}\", axis=1)\n",
    "\n"
   ]
  },
  {
   "cell_type": "code",
   "execution_count": 7,
   "metadata": {},
   "outputs": [],
   "source": [
    "# export the preprocessed dataframe \n",
    "cfx_df.to_parquet('./data/cfx-baseline-subtracted/merge_cfx-baseline-subtracted_kkm_v1_20240213.parquet', index=False)"
   ]
  },
  {
   "cell_type": "markdown",
   "metadata": {},
   "source": [
    "### 2. Raw Sample Data 생성\n",
    "* `/home/kmkim/pda/dsp-research-strep-a/kkm/data/pda-raw-PRJDS001/` 기제품 데이터 중 `GI-B-I/GI-B-I_8-strip` 일부를 sampling함\n",
    "* sampling 방식은 아래의 criteria를 갖고 manual sampling\n",
    "    * Incusion criteria: 다음과 같은 조건을 만족시키는 신호 선별 \n",
    "        * Baseline 차감 전 일정한 pattern 띄는 음성 신호 \n",
    "        * Baseline 차감 후 음성 신호에서 다른 pattern이 보이는 plate \n",
    "        * RFU magnitude 120 이상 \n",
    "        * Baseline 차감 후 신호의 Main pattern과 다른 pattern 보이는 plate\n",
    "            * 예) 하향 평행이동한 noise vs V-shape pattern\n",
    "    * Exclusion criteria: 차감 전 pattern과 차감 후 pattern이 유사한 신호 "
   ]
  },
  {
   "cell_type": "code",
   "execution_count": 8,
   "metadata": {},
   "outputs": [],
   "source": [
    "for plate_number in plate_numbers:\n",
    "    directory_path_raw = root_path / prefix / directory_names[1] / product_names[0] / f\"{product_names[0]}_{consumables[0]}\"\n",
    "    raw_datapath = directory_path_raw / plate_number\n",
    "    input_path = str(raw_datapath)+ '/exported_pcrd'\n",
    "    temp_raw_data = bioradparse.load_pcrdata(input_path, datatype=\"cfx-batch-csv\")\n",
    "    raw_df_dict = {key: value.to_pandas() for key, value in temp_raw_data.items()}\n",
    "    raw_df = pd.concat(raw_df_dict.values(), axis=0)\n",
    "raw_df['combo_key'] = raw_df.apply(lambda x: f\"{x['name']} {x['channel']} {x['step']} {x['well']} {x['welltype']}\", axis=1)"
   ]
  },
  {
   "cell_type": "code",
   "execution_count": 9,
   "metadata": {},
   "outputs": [],
   "source": [
    "# export the preprocessed dataframe \n",
    "raw_df.to_parquet('./data/pda-raw-sample/merge_pda-raw-sample_kkm_v1_20240213.parquet', index=False)"
   ]
  },
  {
   "cell_type": "markdown",
   "metadata": {},
   "source": [
    "## [2024-02-12]\n",
    "### 3. GI-B1 plate_data_001~100 parquet생성"
   ]
  },
  {
   "cell_type": "markdown",
   "metadata": {},
   "source": [
    "#### 2) Parquet Files을 `./data/GI-B-I/GI-B1_8-strip` 에 batch로 배치\n",
    "\n",
    "- pydsp tutorial script update로 인한 code 최신화\n",
    "- 참고: [https://github.com/SeegeneDevelopmentPlatform/pydsp-tutorials/getting-started.ipynb](https://github.com/SeegeneDevelopmentPlatform/pydsp-tutorials/getting-started.ipynb)"
   ]
  },
  {
   "cell_type": "markdown",
   "metadata": {},
   "source": [
    "**(1) PCR 데이터 준비 (Import)**\n",
    "\n",
    "DSP 연산을 하고자 하는 PCRD 파일의 Seegene Export 파일을 압축하여 준비한 후, 아래 정보를 입력함\n",
    "\n",
    "* RAW_ZIP_PATH : PCRD 파일을 Seegene export 파일로 변환하여 압축한 파일의 경로\n",
    "* TO_PARQUET_DIR : DSP 연산을 위해 Seegene export 파일을 paruqet으로 변환하여 저장할 디렉토리의 경로\n",
    "* PCR_SYSTEM : 실험에서 사용한 PCR 기기 종류\n",
    "* CONSUMABLE : 실험에서 사용한 소모품 종류 (8-strip, 96-film, 96-cap 중 선택)\n",
    "* PROTOCOL : Quantstep 및 Temperature\n",
    "* EXPERIMENT_NAME : 실험 이름\n",
    "* PLATE_NAME : 플레이트 디자인 이름\n",
    "* 위에서 입력한 정보와 함께 아래 코드 cell의 `biorad.DataParser()`를 실행하면 TO_PARQUET_DIR에 PARQUET 파일들이 저장됨"
   ]
  },
  {
   "cell_type": "code",
   "execution_count": 5,
   "metadata": {},
   "outputs": [],
   "source": [
    "RAW_ZIP_PATH = \"./data/GI-B-I/GI-B-I-100/GI-B-I-100.zip\"\n",
    "\n",
    "PCR_SYSTEM = \"CFX96\"\n",
    "CONSUMABLE = \"8-strip\"\n",
    "PROTOCOL = {4: \"Low\", 5: \"High\"} # {QUANTSTEP: TEMPERATURE}\n",
    "EXPERIMENT_NAME = \"MY EXPERIMENT\"\n",
    "PLATE_NAME = \"PLATE_NUM_001_100\"\n",
    "TO_PARQUET_DIR = \"./data/GI-B-I/GI-B-I-100/computed/pcr_results\"\n",
    "\n",
    "(\n",
    "    biorad.DataParser(RAW_ZIP_PATH, type=\"cfx-batch-csv\")\n",
    "    .append_metadata(\n",
    "        pcr_system=PCR_SYSTEM,\n",
    "        consumable=CONSUMABLE,\n",
    "        protocol=PROTOCOL,\n",
    "        experiment_name=EXPERIMENT_NAME,\n",
    "        plate_name=PLATE_NAME,\n",
    "    )\n",
    "    .dump(TO_PARQUET_DIR)\n",
    ")"
   ]
  },
  {
   "cell_type": "markdown",
   "metadata": {},
   "source": [
    "* PCR 파일들의 형태가 PARQUET으로 변환되어 DSP 연산 준비가 된 상태가 되었다는 것을 의미"
   ]
  },
  {
   "cell_type": "markdown",
   "metadata": {},
   "source": [
    "**(2) 연산 설정 준비 (Prepare the setting file)**\n",
    "\n",
    "[strep+2] 을 위한 설정값 준비\n",
    "\n"
   ]
  },
  {
   "cell_type": "code",
   "execution_count": 9,
   "metadata": {},
   "outputs": [],
   "source": [
    "#CONFIG_NAME = \"dsp2_generic_config_MuDT\"\n",
    "#CONFIG_NAME = \"dsp2_generic_config_no-MuDT\"\n",
    "#CONFIG_NAME = \"dsp2_strep_plus1_config_MuDT\"\n",
    "#CONFIG_NAME = \"dsp2_strep_plus1_config_no-MuDT\"\n",
    "#CONFIG_NAME = \"dsp2_strep_plus2_config_MuDT\"\n",
    "CONFIG_NAME = \"dsp2_strep_plus2_config_no-MuDT\"\n",
    "\n",
    "DSP_VERSION = \"2.1.1\"\n",
    "DSP_PRODUCT = \"GI-B-I\"\n",
    "COMMENTS = \"20240508 Generic Setting Values without MuDT\"\n",
    "CONSUMABLE1 = \"8-strip\"\n",
    "CONSUMABLE2 = \"96-cap\"\n",
    "CONSUMABLE3 = \"96-film\"\n",
    "\n",
    "XSLX_PATH_8_STRIP = \"./config/xlsx/기제품/GI-B-I-100/dsp2_strep_plus2_config_no-MuDT_8-strip.xlsx\"\n",
    "XSLX_PATH_96_CAP = \"./config/xlsx/기제품/GI-B-I-100/dsp2_strep_plus2_config_no-MuDT_96-cap.xlsx\"\n",
    "XSLX_PATH_96_FILM = \"./config/xlsx/기제품/GI-B-I-100/dsp2_strep_plus2_config_no-MuDT_96-film.xlsx\"\n",
    "\n",
    "CONFIG_YML_PATH = \"./config/yaml/PRJDS001/GI-B-I/dsp2_strep_plus2_config_no-MuDT.yml\"\n",
    "\n",
    "\n",
    "(\n",
    "    ConfigParser()\n",
    "        .set_dsp_version(DSP_VERSION)\n",
    "        .set_dsp_product(DSP_PRODUCT)\n",
    "        .set_name(CONFIG_NAME)\n",
    "        .set_comments(COMMENTS)\n",
    "        .add_config(CONSUMABLE1, path=XSLX_PATH_8_STRIP)\n",
    "        .add_config(CONSUMABLE2, path=XSLX_PATH_96_CAP)\n",
    "        .add_config(CONSUMABLE3, path=XSLX_PATH_96_FILM)\n",
    "        .dump(CONFIG_YML_PATH)\n",
    ")"
   ]
  },
  {
   "cell_type": "markdown",
   "metadata": {},
   "source": [
    "\n",
    "**(3) DSP 연산**\n",
    "\n",
    "`2.dsp-executer.ipynb` 에서 실행"
   ]
  }
 ],
 "metadata": {
  "kernelspec": {
   "display_name": "PyDSP dev (DSP 2.1.1b1, Tools 0.6.0)",
   "language": "python",
   "name": "pydspdev"
  },
  "language_info": {
   "codemirror_mode": {
    "name": "ipython",
    "version": 3
   },
   "file_extension": ".py",
   "mimetype": "text/x-python",
   "name": "python",
   "nbconvert_exporter": "python",
   "pygments_lexer": "ipython3",
   "version": "3.11.7"
  }
 },
 "nbformat": 4,
 "nbformat_minor": 4
}
