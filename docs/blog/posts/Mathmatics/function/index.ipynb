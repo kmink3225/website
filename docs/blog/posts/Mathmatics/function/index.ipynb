{
  "cells": [
    {
      "cell_type": "raw",
      "metadata": {},
      "source": [
        "---\n",
        "title: Multivariate Scalar Function\n",
        "subtitle: template\n",
        "description: |\n",
        "  template\n",
        "categories:\n",
        "  - Mathematics\n",
        "author: Kwangmin Kim\n",
        "date: 01/31/2023\n",
        "format: \n",
        "  html:\n",
        "    page-layout: full\n",
        "    code-fold: true\n",
        "draft: False\n",
        "---"
      ],
      "id": "cdf1ee1d"
    },
    {
      "cell_type": "markdown",
      "metadata": {},
      "source": [
        "<ul class=\"nav nav-pills\" id=\"language-tab\" role=\"tablist\">\n",
        "  <li class=\"nav-item\" role=\"presentation\">\n",
        "    <button class=\"nav-link active\" id=\"Korean-tab\" data-bs-toggle=\"tab\" data-bs-target=\"#Korean\" type=\"button\" role=\"tab\" aria-controls=\"Korean\" aria-selected=\"true\">Korean</button>\n",
        "  </li>\n",
        "  <li class=\"nav-item\" role=\"presentation\">\n",
        "    <button class=\"nav-link\" id=\"English-tab\" data-bs-toggle=\"tab\" data-bs-target=\"#English\" type=\"button\" role=\"tab\" aria-controls=\"knitr\" aria-selected=\"false\">English</button>\n",
        "  </li>\n",
        "\n",
        "<div class=\"tab-content\" id=\"language-tabcontent\">\n",
        "\n",
        "<div class=\"tab-pane fade  show active\" id=\"Korean\" role=\"tabpanel\" aria-labelledby=\"Korean-tab\">\n",
        "\n",
        "## Definition\n",
        "\n",
        "## Function Definition에 필요한 구성 요소\n",
        "$$\n",
        "y=f(x;\\alpha)\n",
        "$$\n",
        "\n",
        "* 독립변수 (independent variable): $x$, 함수의 출력값을 결정하는 변수로서, feature, decision variable 등으로도 표현\n",
        "* 매개변수 (parameter): $\\alpha$,  함수의 모양을 결정하기 위한 변수\n",
        "* 종속 변수 (dependent variable): $y$ or $f(x)$ 독립변수와 매개 변수에 의해 값이 결정되는 변수\n",
        "\n",
        "### Terms about Rectangular Data\n",
        "\n",
        "Rectangular data is the commonly used data structure for statistical and machine learning models, which has a shape of rectangle where values or data . It has many other names such as a spreadsheet in Excel, a table in Relational Database Management System (RDBMS), a matrix in mathematics, a 2-D array in computer science, and a data frame in data science.\n",
        "\n",
        "|   Terms  | Mathmatics            | Statistics                                             | Computer Science           | Data Engineering |\n",
        "|----------|-----------------------|--------------------------------------------------------|----------------------------|------------------|\n",
        "| graph    | visulaized plot       | visulaized plot                                        | connections among entities | data structure   |\n",
        "| variable | independent variable  | predictor, experimental variable, explanatory variable | feature, input             | attribute, column|\n",
        "| outcome  | dependent variable    | response variable, outcome                             |  output, target            | target           |\n",
        "| Records  | pattern, example      | case, sample, observation                              |  instance                  | record, row      |\n",
        "\n",
        ": Confusing Terms in Data Science {#tbl-letters}\n",
        "\n",
        "See @tbl-letters.\n",
        "\n",
        "* 예시1 : 2차 함수\n"
      ],
      "id": "ed0fea9c"
    },
    {
      "cell_type": "code",
      "metadata": {},
      "source": [
        "import numpy as np\n",
        "import matplotlib.pyplot as plt\n",
        "\n",
        "def f(x,a=1,b=2,c=3): #x: independent variable, f(x): dependent variable\n",
        "    return a*x**2+b*x+c # a,b,c : parameters\n",
        "x=np.linspace(-10,10,1000)\n",
        "fig=plt.figure()\n",
        "ax=plt.axes()\n",
        "ax.plot(x,f(x))\n",
        "ax.plot(x,f(x,2,-3,2))\n",
        "plt.show()"
      ],
      "id": "91501770",
      "execution_count": null,
      "outputs": []
    },
    {
      "cell_type": "markdown",
      "metadata": {},
      "source": [
        "* 예시2: linear regression\n",
        "    * 매개변를 수학적으로 최적화하여 데이터에 맞는 직선의 방정식을 찾는 알고리즘\n",
        "    * $h(x,w)=w_1x+w_0$ 일 때,\n",
        "$$\n",
        "\\begin{aligned}\n",
        "L&=\\frac{1}{2}\\sum_{n=1}^{N}(h(x_n,w)-y_n)^2 \\\\\n",
        "&=\\frac{1}{2}\\sum_{n=1}^{N}(w_1x_n+w_0-y_n)^2 \n",
        "\\end{aligned}\n",
        "$$\n",
        "\n",
        "\n",
        "</div>\n",
        "\n",
        "<div class=\"tab-pane fade\" id=\"English\" role=\"tabpanel\" aria-labelledby=\"English-tab\">\n",
        "\n",
        "\n",
        "</div>\n"
      ],
      "id": "8967a359"
    },
    {
      "cell_type": "code",
      "metadata": {},
      "source": [
        "#| echo: false\n",
        "#| eval: true\n",
        "radius = 10\n",
        "from IPython.display import display, Markdown\n",
        "display(Markdown(\"\"\"\n",
        "The radius of the circle is {radius}.\n",
        "\"\"\".format(radius = radius)))"
      ],
      "id": "968268fa",
      "execution_count": null,
      "outputs": []
    },
    {
      "cell_type": "markdown",
      "metadata": {},
      "source": [
        "## Blog Guide Map Link\n",
        "\n",
        "* [Statistics Blog](../guide_map/index.qmd)\n",
        "* [Engineering Blog](../../Engineering/guide_map/index.qmd)\n",
        "* [Deep Learning Blog](../../DL/guide_map/index.qmd)\n",
        "* [Machine Learning Blog](../../ML/guide_map/index.qmd)\n",
        "* [Mathematics Blog](../../Mathmatics/guide_map/index.qmd)\n",
        "* [Patent Blog](../../Patent/guide_map/index.qmd)\n",
        "* [Validation Blog](../../Validation/guide_map/index.qmd)"
      ],
      "id": "db8143cc"
    }
  ],
  "metadata": {
    "kernelspec": {
      "name": "python3",
      "language": "python",
      "display_name": "Python 3 (ipykernel)"
    }
  },
  "nbformat": 4,
  "nbformat_minor": 5
}