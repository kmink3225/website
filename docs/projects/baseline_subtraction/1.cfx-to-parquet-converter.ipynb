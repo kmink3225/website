{
 "cells": [
  {
   "cell_type": "code",
   "execution_count": 2,
   "metadata": {},
   "outputs": [],
   "source": [
    "import pandas as pd\n",
    "import numpy as np\n",
    "import polars as pl\n",
    "\n",
    "import plotly.express as px\n",
    "\n",
    "import pydsp.run.worker\n",
    "import pydsptools.biorad.parse as bioradparse\n",
    "import pydsptools.plot as dspplt\n",
    "import pprint\n",
    "import pyarrow as pa\n",
    "import os\n",
    "import subprocess\n",
    "import matplotlib.pyplot as plt\n",
    "from pathlib import Path"
   ]
  },
  {
   "cell_type": "markdown",
   "metadata": {},
   "source": [
    "# Background\n",
    "\n",
    "baseline fitting 알고리즘이 CFX manager, DSP-Legacy, and AutoBaseline 등과 같이 여러 종류가 있고 그 fitting 성능이 직관적으로 보기에 개선의 필요성을 느낌.\n",
    "이 프로젝트를 통해서 각 각의 baseline 알고리즘의 장/단점을 도출하고 더 향상된 baseline fitting알고리즘을 개발하는 것을 이 프로젝트의 목적으로 한다.\n",
    "\n",
    "* 프로젝트 발의자: 손형석 차장\n",
    "* 프로젝트 담당자: 김광민 대리\n",
    "* 문서 작성자: 김광민 대리 \n",
    "\n",
    "현 시점 (2024-02-05)에서 구체적인 목표 및 action items이 부재한 추상적인 상태이다. \n",
    "\n",
    "# Goals\n",
    "\n",
    "회의 (2024-02-06) 결과, 다음과 같은 일시적인 목표를 정함.\n",
    "\n",
    "* insights 도출과 직관적인 분석을 위해 3개의 알고리즘의 fitting 결과를 시각화한다. \n",
    "* 시각화에 필요한 분석 환경을 마련한다.\n",
    "    * 기제품 raw data 확보, 전처리하여 dsp 연산\n",
    "    * 기제품 data baseline-subtracted by cfx manager 확보, 전처리하여 dsp 연산\n",
    "    * 기제품 auto-baseline 처리된 data 확보 \n",
    "    * data 병합 및 시각화\n"
   ]
  },
  {
   "cell_type": "markdown",
   "metadata": {},
   "source": [
    "# Script Description\n",
    "\n",
    "* 이 스크립트는 실무진들 업무 파악 및 정리가 이루어지기전에 작업한 코드도 섞여 있다.\n",
    "    * (채택되지 않은 방식): 업무 파악 전 코드 \n",
    "    * (채택된 방식): 업무 파악 후 코드\n",
    "* `1.cfx-to-parquet-converter.ipynb` 는 다음 2가지의 data를 전처리한다.\n",
    "    * CFX Data named  (RFU Baseline Subtracted by CFX Manager) 를 `bioradparse.load_pcrdata()` 함수에 의해 전처리된 결과물인 parquet 파일로 변환한다.\n",
    "    * Raw Sample Data (sampled from `pda-raw-PRJDS001`) 를 `bioradparse.load_pcrdata()` 함수에 의해 전처리된 결과물인 parquet 파일로 변환한다.\n",
    "* 최종 결과물인 `merged_data` 는 DSP 연산을 돌리기 전 data를 병합시킨 결과물이다. \n",
    "\n",
    "## CFX Data (Baseline Subtracted) Parquet Files 생성\n",
    "\n",
    "* Seegene Export xlsx or batchanalyzer csv 데이터를 Parquet 파일로 변환하기 위한 path 설정\n"
   ]
  },
  {
   "cell_type": "code",
   "execution_count": 3,
   "metadata": {},
   "outputs": [],
   "source": [
    "root_path = Path.cwd() # /home/kmkim/pda/dsp-research-strep-a/kkm\n",
    "prefix = 'data'\n",
    "directory_names = ['cfx-baseline-subtracted','pda-raw-sample']\n",
    "product_names = ['GI-B-I', 'GI-B-II', 'GI-P', 'GI-V', 'RP1', 'RP2', 'RP3', 'RP4', 'STI-CA', 'STI-EA', 'STI-GU']\n",
    "consumables = ['8-strip','96-cap']\n",
    "plate_numbers = ['plate_data_' + number for number in ['002','005','031','032','036','041']]\n",
    "# !python -m pydsptools.biorad.parse -t cfx-batch-csv -f parquet -o './data/baseline-subtracted/processed/example1' './data/baseline-subtracted/cfx-data/'"
   ]
  },
  {
   "cell_type": "markdown",
   "metadata": {},
   "source": [
    "### 1. Parquet Files을 `plate_data_{number}` path에 분산 배치 방식\n",
    "* (채택되지 않은 방식) : data paths가 복잡해짐\n",
    "* `bioradparse.load_pcrdata()`를 이용한 batchanalyzer csv 데이터를 Parquet 파일로 변환 (아래 코드 돌릴 필요 없음- 아래의 다른 방식으로 돌릴 예정) \n",
    "* 이 방식은 실무진들이 업무 파악 및 정리가 되지 않아 임시 시도한 방식"
   ]
  },
  {
   "cell_type": "code",
   "execution_count": 65,
   "metadata": {},
   "outputs": [],
   "source": [
    "# cfx_data = []\n",
    "# raw_data = []\n",
    "# \n",
    "# for directory_name in directory_names: \n",
    "#     for product_name in ['GI-B-I']: #product_names:\n",
    "#         for consumable in ['8-strip']: #consumables:\n",
    "#             for plate_number in plate_numbers:\n",
    "#                 full_path = root_path / prefix / directory_name / product_name / consumable / plate_number\n",
    "#                 processed_path = full_path / \"processed\" / \"example1\"\n",
    "#                 processed_path.mkdir(parents=True, exist_ok=True)\n",
    "#                 exporting_path =  full_path / \"exported_pcrd\"\n",
    "#                 if 'cfx' in exporting_path: \n",
    "#                     temp_cfx_data = bioradparse.load_pcrdata(exporting_path, datatype=\"cfx-xl\")\n",
    "#                     cfx_data.append(temp_cfx_data)\n",
    "#                 temp_raw_data = bioradparse.load_pcrdata(exporting_path, datatype=\"cfx-batch-csv\")\n",
    "#                 raw_data.append(temp_raw_data)\n",
    "# #pathlib.Path(f\"./data/baseline-subtracted/processed/example1\")\n",
    "# \n",
    "# for pcrname, pcrdata in raw_data.items():\n",
    "#     bioradparse.save_pcrdata(raw_data, root_path / \"pda-raw-sample\" / \"processed\" / \"example1\" / f\"{pcrname}.parquet\")\n",
    "# for pcrname, pcrdata in cfx_data.items():\n",
    "#     bioradparse.save_pcrdata(cfx_data, root_path / \"cfx-baseline-subtraction\" / \"processed\" / \"example1\" / f\"{pcrname}.parquet\")"
   ]
  },
  {
   "cell_type": "markdown",
   "metadata": {},
   "source": [
    "### 2. Parquet Files을 `./data/cfx-baseline-subtracted/cfx-data` 에 batch로 배치\n",
    "* (채택된 방식)\n",
    "* `batchanalyzer.exe`로 CFX Manager Baseline Subtracted Data 대량 batch 추출 후 `directory-path/cfx-data`에 저장  bioradparse module 돌림\n",
    "* 아래 코드 한번만 돌리면 됨"
   ]
  },
  {
   "cell_type": "code",
   "execution_count": 4,
   "metadata": {},
   "outputs": [],
   "source": [
    "cfx_datapath = root_path / prefix / directory_names[0] / 'cfx-data'\n",
    "cfx_data = bioradparse.load_pcrdata(str(cfx_datapath), datatype=\"cfx-batch-csv\") # output: dictionary"
   ]
  },
  {
   "cell_type": "code",
   "execution_count": 5,
   "metadata": {},
   "outputs": [],
   "source": [
    "len(cfx_data.keys()) # 201개 plates\n",
    "\n",
    "# Convert PyArrow Tables to DataFrames and store them in a new dictionary\n",
    "cfx_df_dict = {key: value.to_pandas() for key, value in cfx_data.items()}\n",
    "\n",
    "# Convert the dictionary of DataFrames to a single DataFrame (concatenating along rows)\n",
    "cfx_df = pd.concat(cfx_df_dict.values(), axis=0)\n",
    "#cfx_df = cfx_df.rename(columns={'rfu':'cfx_rfu','endrfu':'cfx_endrfu','melt_idx':'cfx_melt_idx','melt':'cfx_melt'})\n",
    "cfx_df['combo_key'] = cfx_df.apply(lambda x: f\"{x['name']} {x['channel']} {x['step']} {x['well']} {x['welltype']}\", axis=1)\n",
    "\n"
   ]
  },
  {
   "cell_type": "code",
   "execution_count": 7,
   "metadata": {},
   "outputs": [],
   "source": [
    "# export the preprocessed dataframe \n",
    "cfx_df.to_parquet('./data/cfx-baseline-subtracted/merge_cfx-baseline-subtracted_kkm_v1_20240213.parquet', index=False)"
   ]
  },
  {
   "cell_type": "markdown",
   "metadata": {},
   "source": [
    "## Raw Sample Data 생성\n",
    "* `/home/kmkim/pda/dsp-research-strep-a/kkm/data/pda-raw-PRJDS001/` 기제품 데이터 중 `GI-B-I/GI-B-I_8-strip` 일부를 sampling함\n",
    "* sampling 방식은 아래의 criteria를 갖고 manual sampling\n",
    "    * Incusion criteria: 다음과 같은 조건을 만족시키는 신호 선별 \n",
    "        * Baseline 차감 전 일정한 pattern 띄는 음성 신호 \n",
    "        * Baseline 차감 후 음성 신호에서 다른 pattern이 보이는 plate \n",
    "        * RFU magnitude 120 이상 \n",
    "        * Baseline 차감 후 신호의 Main pattern과 다른 pattern 보이는 plate\n",
    "            * 예) 하향 평행이동한 noise vs V-shape pattern\n",
    "    * Exclusion criteria: 차감 전 pattern과 차감 후 pattern이 유사한 신호 "
   ]
  },
  {
   "cell_type": "code",
   "execution_count": 8,
   "metadata": {},
   "outputs": [],
   "source": [
    "for plate_number in plate_numbers:\n",
    "    directory_path_raw = root_path / prefix / directory_names[1] / product_names[0] / f\"{product_names[0]}_{consumables[0]}\"\n",
    "    raw_datapath = directory_path_raw / plate_number\n",
    "    input_path = str(raw_datapath)+ '/exported_pcrd'\n",
    "    temp_raw_data = bioradparse.load_pcrdata(input_path, datatype=\"cfx-batch-csv\")\n",
    "    raw_df_dict = {key: value.to_pandas() for key, value in temp_raw_data.items()}\n",
    "    raw_df = pd.concat(raw_df_dict.values(), axis=0)\n",
    "raw_df['combo_key'] = raw_df.apply(lambda x: f\"{x['name']} {x['channel']} {x['step']} {x['well']} {x['welltype']}\", axis=1)"
   ]
  },
  {
   "cell_type": "code",
   "execution_count": 9,
   "metadata": {},
   "outputs": [],
   "source": [
    "# export the preprocessed dataframe \n",
    "raw_df.to_parquet('./data/pda-raw-sample/merge_pda-raw-sample_kkm_v1_20240213.parquet', index=False)"
   ]
  },
  {
   "cell_type": "markdown",
   "metadata": {},
   "source": [
    "## Merged Data\n",
    "\n",
    "CFX data와 Raw Sample Data 병합"
   ]
  },
  {
   "cell_type": "code",
   "execution_count": 38,
   "metadata": {},
   "outputs": [
    {
     "name": "stdout",
     "output_type": "stream",
     "text": [
      "Index(['name', 'step', 'channel', 'well', 'welltype', 'cfx_rfu', 'cfx_endrfu',\n",
      "       'cfx_melt_idx', 'cfx_melt', 'combo_key', 'rfu', 'endrfu'],\n",
      "      dtype='object')\n",
      "<bound method NDFrame.head of                                                   name  step      channel  \\\n",
      "0    admin_2015-03-23 18-23-41_CC010436_Allplex GI ...     4  Cal Red 610   \n",
      "1    admin_2015-03-23 18-23-41_CC010436_Allplex GI ...     4  Cal Red 610   \n",
      "2    admin_2015-03-23 18-23-41_CC010436_Allplex GI ...     4  Cal Red 610   \n",
      "3    admin_2015-03-23 18-23-41_CC010436_Allplex GI ...     4  Cal Red 610   \n",
      "4    admin_2015-03-23 18-23-41_CC010436_Allplex GI ...     4  Cal Red 610   \n",
      "..                                                 ...   ...          ...   \n",
      "763  admin_2015-03-23 18-23-41_CC010436_Allplex GI ...     5   Quasar 670   \n",
      "764  admin_2015-03-23 18-23-41_CC010436_Allplex GI ...     5   Quasar 670   \n",
      "765  admin_2015-03-23 18-23-41_CC010436_Allplex GI ...     5   Quasar 670   \n",
      "766  admin_2015-03-23 18-23-41_CC010436_Allplex GI ...     5   Quasar 670   \n",
      "767  admin_2015-03-23 18-23-41_CC010436_Allplex GI ...     5   Quasar 670   \n",
      "\n",
      "    well welltype                                            cfx_rfu  \\\n",
      "0    A01   Sample  [-207.596939754111, -66.7158650247447, -22.959...   \n",
      "1    A02   Sample  [51.3396809551186, 33.9677528219909, 24.646550...   \n",
      "2    A03   Sample  [66.2042101188999, 38.676795903988, 27.9502715...   \n",
      "3    A04   Sample  [68.4761322649392, 42.0913895553722, 35.643938...   \n",
      "4    A05   Sample  [51.5825875215869, 31.5868515567854, 21.827128...   \n",
      "..   ...      ...                                                ...   \n",
      "763  H08   Sample  [-3.67134658013583, 1.9492647480688, -3.612331...   \n",
      "764  H09   Sample  [-0.0090807374817814, -0.715588593897337, -2.4...   \n",
      "765  H10   Sample  [-3.48363544285166, -4.46961727504095, -0.9333...   \n",
      "766  H11   Sample  [-2.06617472263679, -0.455157403021076, -1.263...   \n",
      "767  H12   Sample  [-0.697163200810337, 0.304274458717373, 0.5430...   \n",
      "\n",
      "      cfx_endrfu cfx_melt_idx cfx_melt  \\\n",
      "0    1306.259685          NaN      NaN   \n",
      "1    1247.664725          NaN      NaN   \n",
      "2      13.150612          NaN      NaN   \n",
      "3      16.652350          NaN      NaN   \n",
      "4       8.097346          NaN      NaN   \n",
      "..           ...          ...      ...   \n",
      "763     0.166878          NaN      NaN   \n",
      "764    -1.593277          NaN      NaN   \n",
      "765    -0.552403          NaN      NaN   \n",
      "766    -1.154900          NaN      NaN   \n",
      "767     0.039448          NaN      NaN   \n",
      "\n",
      "                                             combo_key  \\\n",
      "0    admin_2015-03-23 18-23-41_CC010436_Allplex GI ...   \n",
      "1    admin_2015-03-23 18-23-41_CC010436_Allplex GI ...   \n",
      "2    admin_2015-03-23 18-23-41_CC010436_Allplex GI ...   \n",
      "3    admin_2015-03-23 18-23-41_CC010436_Allplex GI ...   \n",
      "4    admin_2015-03-23 18-23-41_CC010436_Allplex GI ...   \n",
      "..                                                 ...   \n",
      "763  admin_2015-03-23 18-23-41_CC010436_Allplex GI ...   \n",
      "764  admin_2015-03-23 18-23-41_CC010436_Allplex GI ...   \n",
      "765  admin_2015-03-23 18-23-41_CC010436_Allplex GI ...   \n",
      "766  admin_2015-03-23 18-23-41_CC010436_Allplex GI ...   \n",
      "767  admin_2015-03-23 18-23-41_CC010436_Allplex GI ...   \n",
      "\n",
      "                                                   rfu       endrfu  \n",
      "0    [5740.51632272867, 5879.54191688282, 5921.4432...  7176.402097  \n",
      "1    [5846.11873285891, 5826.40206790713, 5814.7361...  6946.187695  \n",
      "2    [5924.22707408054, 5895.58686619919, 5883.7475...  5824.436142  \n",
      "3    [5826.42821666117, 5798.00662745254, 5789.5223...  5689.056881  \n",
      "4    [5470.1045446199, 5448.37840497882, 5436.88827...  5353.942349  \n",
      "..                                                 ...          ...  \n",
      "763  [2470.22823018914, 2475.83096953928, 2470.2515...  2473.315831  \n",
      "764  [2458.18369872647, 2457.50860266515, 2455.7906...  2457.918798  \n",
      "765  [2498.53397865295, 2497.52305627369, 2501.0344...  2500.417708  \n",
      "766  [2458.26438248667, 2459.84961816911, 2459.0152...  2458.092828  \n",
      "767  [2458.86791327424, 2459.88592748068, 2460.1413...  2460.300740  \n",
      "\n",
      "[768 rows x 12 columns]>\n"
     ]
    }
   ],
   "source": [
    "data = pd.merge(cfx_df,raw_df[['rfu','endrfu','combo_key']],on='combo_key',how='inner')\n",
    "print(data.columns)\n",
    "print(data.head)"
   ]
  }
 ],
 "metadata": {
  "kernelspec": {
   "display_name": "pydsp",
   "language": "python",
   "name": "python3"
  },
  "language_info": {
   "codemirror_mode": {
    "name": "ipython",
    "version": 3
   },
   "file_extension": ".py",
   "mimetype": "text/x-python",
   "name": "python",
   "nbconvert_exporter": "python",
   "pygments_lexer": "ipython3",
   "version": "3.11.5"
  }
 },
 "nbformat": 4,
 "nbformat_minor": 2
}
